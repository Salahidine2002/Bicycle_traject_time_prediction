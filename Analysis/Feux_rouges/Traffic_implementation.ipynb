{
 "cells": [
  {
   "cell_type": "code",
   "execution_count": 2,
   "source": [
    "#ajout de la donnée de feu rouge au sein de chaque trajet\n",
    "\n",
    "import numpy as np\n",
    "import pandas as pd\n",
    "from calcul_distance_FR import *\n",
    "from carto import *\n",
    "\n",
    "Data, _, _ = np.load('../../Extracted_data/Data.npy', allow_pickle='TRUE')    #on récupère uniquement les 6 trajets\n",
    "\n",
    "nb_trajet=len(Data)\n",
    "for i in range(nb_trajet):    #on traite chaque dataframe de chaque trajet\n",
    "    Data_trajet=Data[i]\n",
    "    distance_traffic, traffic_crossed = ajout_feux(Data_trajet)\n",
    "    Data[i][0]['distance_traffic']=distance_traffic\n",
    "    Data[i].append(traffic_crossed)  #ajout de la données des feux concernés par le trajet à l'indice 14 de Data[i]\n",
    "    tracer_carte(Data_trajet,i)     #on trace les différentes cartes pour chaque trajet\n",
    "\n",
    "    "
   ],
   "outputs": [],
   "metadata": {}
  }
 ],
 "metadata": {
  "interpreter": {
   "hash": "aee8b7b246df8f9039afb4144a1f6fd8d2ca17a180786b69acc140d282b71a49"
  },
  "kernelspec": {
   "name": "python3",
   "display_name": "Python 3.10.4 64-bit"
  },
  "language_info": {
   "codemirror_mode": {
    "name": "ipython",
    "version": 3
   },
   "file_extension": ".py",
   "mimetype": "text/x-python",
   "name": "python",
   "nbconvert_exporter": "python",
   "pygments_lexer": "ipython3",
   "version": "3.10.4"
  },
  "vscode": {
   "interpreter": {
    "hash": "610afcfab8d92197fd8fa1dd69c9a0fe3f98f600233dfd0ef802fd8443096641"
   }
  }
 },
 "nbformat": 4,
 "nbformat_minor": 2
}